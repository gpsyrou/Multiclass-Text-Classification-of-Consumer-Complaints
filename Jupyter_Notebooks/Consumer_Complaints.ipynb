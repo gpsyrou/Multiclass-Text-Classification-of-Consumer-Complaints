{
 "cells": [
  {
   "cell_type": "markdown",
   "metadata": {},
   "source": [
    "# Multiclass Text Classification of Consumer Complaints for Financial Products with Multinomial Naive Bayes and Linear Support Vector Machine\n",
    "### Author: Georgios Spyrou (georgios.spyrou1@gmail.com)\n",
    "### Completion Date: 20/08/2020\n",
    "\n",
    "<img src=\"https://raw.githubusercontent.com/gpsyrou/Multiclass-Text-Classification-of-Consumer-Complaints/master/project_picture.png\" alt=\"Project picture\" width=\"720\" height=\"720\" style=\"vertical-align:middle;margin:10px 0px\">"
   ]
  },
  {
   "cell_type": "markdown",
   "metadata": {},
   "source": [
    "## Sections\n",
    "\n",
    "- <a href='#Introduction' style=\"text-decoration: none\">Introduction </a> \n",
    "- <a href='#Data_Loading' style=\"text-decoration: none\">Data Loading</a> \n",
    "- <a href='#data_cleaning_eda' style=\"text-decoration: none\">Data Cleaning & Exporatory Data Analysis (EDA)</a> \n",
    "- <a href='#data_preprocessing' style=\"text-decoration: none\">Data Preprocessing</a> \n",
    "- <a href='#model_creation' style=\"text-decoration: none\">Model Creation and Evaluation</a> \n",
    "  - <a href='#multinomial_nb' style=\"text-decoration: none\">Multinomial Naive Bayes Classifier</a>\n",
    "  - <a href='#linear_svc' style=\"text-decoration: none\">Linear Support Vector Machine Classifier</a> "
   ]
  },
  {
   "cell_type": "markdown",
   "metadata": {},
   "source": [
    "<a id='Introduction'></a>\n",
    "## Introduction"
   ]
  },
  {
   "cell_type": "markdown",
   "metadata": {},
   "source": [
    "The data used in this project contain complaints that have been made by consumers regarding financial services and products (e.g. student loans, credit reports, mortgage, etc) in the United States between November 2011 and May 2019. Each of the complaints is marked to belong under one Product Category. This makes the data ideal for supervised learning purposes, with the text (complaint from the consumer) as the **input**, and the category that the complaint belongs to as the **target** variable.\n",
    "\n",
    "The dataset is publicly available and it keeps getting updated daily from the USA Consumer Financial Protection Bureau, and it can be found <a href=\"https://catalog.data.gov/dataset/consumer-complaint-database\" style=\"text-decoration: none\"> here</a>.\n",
    "\n",
    "After this small introduction, we can move to the main part of the project. At the beggining we will load the dataset into Python, perform some data cleaning and continue with the exploratory data analysis part, so that we can get a better understanding of the dataset. After we make sure that we understand the data, we will proceed to the modeling part where we will try different types of classification algorithms and compare their performance on predicting to which class/category each complaint should fall into."
   ]
  },
  {
   "cell_type": "markdown",
   "metadata": {},
   "source": [
    "<a id='Data_Loading'></a>\n",
    "## Part 1 - Data Loading"
   ]
  },
  {
   "cell_type": "code",
   "execution_count": 69,
   "metadata": {},
   "outputs": [
    {
     "data": {
      "text/html": [
       "        <script type=\"text/javascript\">\n",
       "        window.PlotlyConfig = {MathJaxConfig: 'local'};\n",
       "        if (window.MathJax) {MathJax.Hub.Config({SVG: {font: \"STIX-Web\"}});}\n",
       "        if (typeof require !== 'undefined') {\n",
       "        require.undef(\"plotly\");\n",
       "        requirejs.config({\n",
       "            paths: {\n",
       "                'plotly': ['https://cdn.plot.ly/plotly-latest.min']\n",
       "            }\n",
       "        });\n",
       "        require(['plotly'], function(Plotly) {\n",
       "            window._Plotly = Plotly;\n",
       "        });\n",
       "        }\n",
       "        </script>\n",
       "        "
      ]
     },
     "metadata": {},
     "output_type": "display_data"
    }
   ],
   "source": [
    "# Import dependencies\n",
    "import os\n",
    "import re\n",
    "import numpy as np\n",
    "import pandas as pd\n",
    "\n",
    "# Visualization\n",
    "import matplotlib.pyplot as plt\n",
    "import seaborn as sns\n",
    "\n",
    "import plotly.tools as tls\n",
    "import plotly.figure_factory as ff\n",
    "import plotly.graph_objs as go\n",
    "from plotly.offline import download_plotlyjs, init_notebook_mode, plot, iplot\n",
    "import plotly.express as px\n",
    "init_notebook_mode(connected=True)\n",
    "\n",
    "# NLP\n",
    "import string \n",
    "from nltk import word_tokenize\n",
    "from nltk.corpus import stopwords\n",
    "from nltk import WordNetLemmatizer\n",
    "\n",
    "import warnings\n",
    "warnings.filterwarnings('ignore')"
   ]
  },
  {
   "cell_type": "code",
   "execution_count": 21,
   "metadata": {},
   "outputs": [],
   "source": [
    "project_dir = r'C:\\Users\\george\\Desktop\\GitHub\\Projects\\Consumer_Complaints'\n",
    "os.chdir(project_dir)\n",
    "\n",
    "complaints_df = pd.read_csv(os.path.join(project_dir, 'Data', 'complaints.csv'))"
   ]
  },
  {
   "cell_type": "code",
   "execution_count": 22,
   "metadata": {},
   "outputs": [
    {
     "data": {
      "text/plain": [
       "(1706612, 18)"
      ]
     },
     "execution_count": 22,
     "metadata": {},
     "output_type": "execute_result"
    }
   ],
   "source": [
    "complaints_df.shape"
   ]
  },
  {
   "cell_type": "code",
   "execution_count": 23,
   "metadata": {},
   "outputs": [
    {
     "data": {
      "text/plain": [
       "Index(['Date received', 'Product', 'Sub-product', 'Issue', 'Sub-issue',\n",
       "       'Consumer complaint narrative', 'Company public response', 'Company',\n",
       "       'State', 'ZIP code', 'Tags', 'Consumer consent provided?',\n",
       "       'Submitted via', 'Date sent to company', 'Company response to consumer',\n",
       "       'Timely response?', 'Consumer disputed?', 'Complaint ID'],\n",
       "      dtype='object')"
      ]
     },
     "execution_count": 23,
     "metadata": {},
     "output_type": "execute_result"
    }
   ],
   "source": [
    "complaints_df.columns"
   ]
  },
  {
   "cell_type": "markdown",
   "metadata": {},
   "source": [
    "From the features contained in the dataset we technically only care about the columns **Consumer complaint narrative** which corresponds to the text/complaint of the consumer, and the **Product** which is the category that the complaint falls into and it will be our target variable. Please note that the input variable is going to be renamed in the next step, for ease of use."
   ]
  },
  {
   "cell_type": "markdown",
   "metadata": {},
   "source": [
    "<a id='data_cleaning_eda'> </a>\n",
    "## Part 2 - Data Cleaning & Exporatory Data Analysis\n",
    "\n",
    "### Initial Data Cleaning"
   ]
  },
  {
   "cell_type": "code",
   "execution_count": 6,
   "metadata": {},
   "outputs": [],
   "source": [
    "# Renaming the predictor column for ease of use\n",
    "complaints_df.rename(columns={'Consumer complaint narrative': 'Complaint'}, inplace=True)"
   ]
  },
  {
   "cell_type": "code",
   "execution_count": 7,
   "metadata": {},
   "outputs": [
    {
     "data": {
      "text/plain": [
       "2019    277389\n",
       "2018    257312\n",
       "2017    242965\n",
       "2020    232834\n",
       "2016    191468\n",
       "2015    168475\n",
       "2014    153043\n",
       "2013    108217\n",
       "2012     72373\n",
       "2011      2536\n",
       "Name: Year, dtype: int64"
      ]
     },
     "execution_count": 7,
     "metadata": {},
     "output_type": "execute_result"
    }
   ],
   "source": [
    "# Get the year that the complaint took place as a separate column\n",
    "complaints_df['Year'] = complaints_df['Date received'].apply(lambda x: int(re.findall('[0-9]{4}', x)[0]))\n",
    "    \n",
    "complaints_df.Year.value_counts()"
   ]
  },
  {
   "cell_type": "code",
   "execution_count": 8,
   "metadata": {},
   "outputs": [
    {
     "data": {
      "text/plain": [
       "Date received                         0\n",
       "Product                               0\n",
       "Sub-product                      235165\n",
       "Issue                                 1\n",
       "Sub-issue                        578864\n",
       "Complaint                       1130110\n",
       "Company public response         1028312\n",
       "Company                               0\n",
       "State                             29187\n",
       "ZIP code                         164485\n",
       "Tags                            1478326\n",
       "Consumer consent provided?       648327\n",
       "Submitted via                         0\n",
       "Date sent to company                  0\n",
       "Company response to consumer          2\n",
       "Timely response?                      0\n",
       "Consumer disputed?               938135\n",
       "Complaint ID                          0\n",
       "Year                                  0\n",
       "dtype: int64"
      ]
     },
     "execution_count": 8,
     "metadata": {},
     "output_type": "execute_result"
    }
   ],
   "source": [
    "# Identify how many missing values we have per column \n",
    "complaints_df.isnull().sum(axis=0)"
   ]
  },
  {
   "cell_type": "markdown",
   "metadata": {},
   "source": [
    "We can see that 1130110 out of the 1706612 complaints in the dataset are empty, which means that the consumer did not provide any text explaining the reason for raising the complaint. Thus, such cases are not very useful in our project as they provide no helpful information in order to predict to which product category they should belong based on the consumer's input.\n",
    "\n",
    "Before we reduce the dataset to only retain the rows where the Complaint field is populated, we will continue the EDA with the whole dataset and perform this task in a later stage.\n",
    "\n",
    "### Exploratory Data Analysis & Visualizations"
   ]
  },
  {
   "cell_type": "code",
   "execution_count": 9,
   "metadata": {},
   "outputs": [],
   "source": [
    "def plotNumberOfObservationsPerCategory(input_df: pd.core.frame.DataFrame, col: str, by_year=True, figsize=(10,8)):\n",
    "    \"\"\"\n",
    "    Returns a countplot with the number of observations\n",
    "    based on the column defined by 'col'\n",
    "    \"\"\"\n",
    "    hue = None\n",
    "    if by_year == True:\n",
    "        hue = input_df['Year']\n",
    "    plt.figure(figsize=figsize)\n",
    "    sns.countplot(y=input_df[col], hue=hue,\n",
    "                       order=input_df[col].value_counts().index)\n",
    "    plt.ylabel('Complaint Category', fontweight='bold')\n",
    "    plt.title(f'Number of Complaints per {col} Category', fontweight=\"bold\")\n",
    "    plt.show()"
   ]
  },
  {
   "cell_type": "markdown",
   "metadata": {},
   "source": [
    "At first we can have a look at the distribution of complaints from the full dataset, compared to the category that they belong:"
   ]
  },
  {
   "cell_type": "code",
   "execution_count": 10,
   "metadata": {},
   "outputs": [
    {
     "data": {
      "image/png": "[encoded data removed]",
      "text/plain": [
       "<Figure size 864x576 with 1 Axes>"
      ]
     },
     "metadata": {},
     "output_type": "display_data"
    }
   ],
   "source": [
    "sns.set_style(\"darkgrid\")\n",
    "\n",
    "plotNumberOfObservationsPerCategory(complaints_df, col='Product', by_year=False, figsize=(12,8))"
   ]
  },
  {
   "cell_type": "markdown",
   "metadata": {},
   "source": [
    "We can see that there are many cases where a category is overlapping with another. For example, we have both 'Credit card or prepaid card' and 'Credit card' as separate categories. Therefore we will merge such cases of categories that are overlapping, and we will end up with 12 Categories instead of 18 that were present in the initial dataset."
   ]
  },
  {
   "cell_type": "code",
   "execution_count": 11,
   "metadata": {},
   "outputs": [],
   "source": [
    "complaints_processed = complaints_df\n",
    "\n",
    "prod_category_map = {'Credit reporting, credit repair services, or other personal consumer reports': 'Credit reporting',\n",
    "                     'Credit card': 'Credit card or prepaid card',\n",
    "                     'Payday loan': 'Payday loan, title loan, or personal loan',\n",
    "                     'Prepaid card': 'Credit card or prepaid card',\n",
    "                     'Money transfers': 'Money transfer, virtual currency, or money service',\n",
    "                     'Virtual currency': 'Money transfer, virtual currency, or money service'}\n",
    "\n",
    "complaints_processed['Product'].replace(prod_category_map, inplace=True)"
   ]
  },
  {
   "cell_type": "code",
   "execution_count": 12,
   "metadata": {},
   "outputs": [
    {
     "data": {
      "image/png": "[encoded data removed]",
      "text/plain": [
       "<Figure size 864x576 with 1 Axes>"
      ]
     },
     "metadata": {},
     "output_type": "display_data"
    }
   ],
   "source": [
    "plotNumberOfObservationsPerCategory(complaints_processed, col='Product', by_year=False, figsize=(12,8))"
   ]
  },
  {
   "cell_type": "markdown",
   "metadata": {},
   "source": [
    "Furthermore, we can observe that the initial dataset has some **imbalance** in terms of the categories of the complaints. Appears that the most regular complaints are related to credit reporting, mortage and debt collection. This imbalance of the target variable can cause misleading results when evaluating the machine learning algorithms that we will use later in the project, thus we will have to be careful with what evaluation metric we are going to use to compare the models."
   ]
  },
  {
   "cell_type": "code",
   "execution_count": 13,
   "metadata": {},
   "outputs": [],
   "source": [
    "def plotTopComplaints(input_df: pd.core.frame.DataFrame, agg_col: str, top_n: int, bottom=False, figsize=(10,8)):\n",
    "    \"\"\"\n",
    "    Aggregate a dataframe based on column of interest and calcualte the number\n",
    "    of observations per aggregated group.\n",
    "    \n",
    "    The function returns a barplot object showing the results of the above\n",
    "    calculation.\n",
    "\n",
    "    Args:\n",
    "    ----\n",
    "    agg_col: Name of the column that we want to base the aggregation\n",
    "    top_n: Amount of observations to be included in the plot\n",
    "    bottom: Plot the top-n from the top (highest) or from the bottom (lowest)\n",
    "    \"\"\"\n",
    "    size = float(input_df.shape[0])\n",
    "    rot = 0\n",
    "    \n",
    "    if (agg_col=='Company') & (top_n >=10):\n",
    "        rot = 45\n",
    "\n",
    "    try:\n",
    "        most_cmplts = input_df[['Complaint ID',\n",
    "                            agg_col]].groupby([agg_col]).agg(['count'])\n",
    "    \n",
    "        most_cmplts = most_cmplts.sort_values(\n",
    "                by=[('Complaint ID','count')], ascending=bottom)\n",
    "\n",
    "        plt.figure(figsize=figsize)\n",
    "        ax = sns.barplot(x=most_cmplts.index[0:top_n], y=('Complaint ID',\n",
    "                         'count'), data=most_cmplts[0:top_n])\n",
    "            \n",
    "        for p in ax.patches:\n",
    "            height = p.get_height()\n",
    "            ax.text(p.get_x()+p.get_width()/2., height + 4, '{:1.2f}%'.format(\n",
    "                    100 * height/size), ha=\"center\")\n",
    "\n",
    "        ax.set_xticklabels(ax.get_xticklabels(), rotation=rot)\n",
    "        plt.ylabel('Number of complaints', fontweight='bold')\n",
    "        plt.title(f'{agg_col} with the most number of complaints',\n",
    "                  fontweight='bold')\n",
    "        plt.show()\n",
    "    except KeyError:\n",
    "        print('agg_col does not correspond to a column that exists')"
   ]
  },
  {
   "cell_type": "markdown",
   "metadata": {},
   "source": [
    "Now we can continue with the EDA. At first, we will identify the states that most complaints have been submitted to:"
   ]
  },
  {
   "cell_type": "code",
   "execution_count": 14,
   "metadata": {},
   "outputs": [
    {
     "data": {
      "image/png": "[encoded data removed]",
      "text/plain": [
       "<Figure size 1008x720 with 1 Axes>"
      ]
     },
     "metadata": {},
     "output_type": "display_data"
    },
    {
     "data": {
      "application/vnd.plotly.v1+json": {
       "config": {
        "linkText": "Export to plot.ly",
        "plotlyServerURL": "https://plot.ly",
        "showLink": false
       },
       "data": [
        {
         "autocolorscale": false,
         "colorbar": {
          "title": {
           "text": "# of complaints"
          }
         },
         "colorscale": [
          [
           0,
           "rgb(103,0,31)"
          ],
          [
           0.1,
           "rgb(178,24,43)"
          ],
          [
           0.2,
           "rgb(214,96,77)"
          ],
          [
           0.3,
           "rgb(244,165,130)"
          ],
          [
           0.4,
           "rgb(253,219,199)"
          ],
          [
           0.5,
           "rgb(247,247,247)"
          ],
          [
           0.6,
           "rgb(209,229,240)"
          ],
          [
           0.7,
           "rgb(146,197,222)"
          ],
          [
           0.8,
           "rgb(67,147,195)"
          ],
          [
           0.9,
           "rgb(33,102,172)"
          ],
          [
           1,
           "rgb(5,48,97)"
          ]
         ],
         "locationmode": "USA-states",
         "locations": [
          "CA",
          "FL",
          "TX",
          "NY",
          "GA",
          "IL",
          "NJ",
          "PA",
          "NC",
          "OH",
          "VA",
          "MD",
          "MI",
          "AZ",
          "WA",
          "TN",
          "MA",
          "SC",
          "CO",
          "MO",
          "NV",
          "AL",
          "LA",
          "IN",
          "CT",
          "MN",
          "WI",
          "OR",
          "AR",
          "UT",
          "KY",
          "OK",
          "MS",
          "DC",
          "DE",
          "KS",
          "NM",
          "IA",
          "NH",
          "HI",
          "ID",
          "RI",
          "NE",
          "ME",
          "PR",
          "WV",
          "MT",
          "VT",
          "SD",
          "AK",
          "WY",
          "ND",
          "AE",
          "AP",
          "VI",
          "GU",
          "FM",
          "UNITED STATES MINOR OUTLYING ISLANDS",
          "AA",
          "MP",
          "AS",
          "MH",
          "PW"
         ],
         "marker": {
          "line": {
           "color": "rgb(255,255,255)",
           "width": 2
          }
         },
         "reversescale": true,
         "text": [
          "State Code: CA<br>",
          "State Code: FL<br>",
          "State Code: TX<br>",
          "State Code: NY<br>",
          "State Code: GA<br>",
          "State Code: IL<br>",
          "State Code: NJ<br>",
          "State Code: PA<br>",
          "State Code: NC<br>",
          "State Code: OH<br>",
          "State Code: VA<br>",
          "State Code: MD<br>",
          "State Code: MI<br>",
          "State Code: AZ<br>",
          "State Code: WA<br>",
          "State Code: TN<br>",
          "State Code: MA<br>",
          "State Code: SC<br>",
          "State Code: CO<br>",
          "State Code: MO<br>",
          "State Code: NV<br>",
          "State Code: AL<br>",
          "State Code: LA<br>",
          "State Code: IN<br>",
          "State Code: CT<br>",
          "State Code: MN<br>",
          "State Code: WI<br>",
          "State Code: OR<br>",
          "State Code: AR<br>",
          "State Code: UT<br>",
          "State Code: KY<br>",
          "State Code: OK<br>",
          "State Code: MS<br>",
          "State Code: DC<br>",
          "State Code: DE<br>",
          "State Code: KS<br>",
          "State Code: NM<br>",
          "State Code: IA<br>",
          "State Code: NH<br>",
          "State Code: HI<br>",
          "State Code: ID<br>",
          "State Code: RI<br>",
          "State Code: NE<br>",
          "State Code: ME<br>",
          "State Code: PR<br>",
          "State Code: WV<br>",
          "State Code: MT<br>",
          "State Code: VT<br>",
          "State Code: SD<br>",
          "State Code: AK<br>",
          "State Code: WY<br>",
          "State Code: ND<br>",
          "State Code: AE<br>",
          "State Code: AP<br>",
          "State Code: VI<br>",
          "State Code: GU<br>",
          "State Code: FM<br>",
          "State Code: UNITED STATES MINOR OUTLYING ISLANDS<br>",
          "State Code: AA<br>",
          "State Code: MP<br>",
          "State Code: AS<br>",
          "State Code: MH<br>",
          "State Code: PW<br>"
         ],
         "type": "choropleth",
         "z": [
          228835,
          183500,
          149195,
          115611,
          93001,
          64407,
          60549,
          59307,
          51868,
          49165,
          46478,
          45576,
          38190,
          34097,
          29714,
          29420,
          29111,
          26357,
          25427,
          23742,
          22825,
          22169,
          21833,
          18297,
          17992,
          16657,
          16231,
          15520,
          13086,
          11788,
          11138,
          10090,
          9962,
          8742,
          8045,
          7644,
          6802,
          6199,
          5580,
          4978,
          4695,
          4587,
          4343,
          4184,
          3954,
          3692,
          2459,
          1971,
          1826,
          1771,
          1500,
          1491,
          595,
          416,
          272,
          212,
          115,
          69,
          35,
          34,
          32,
          31,
          13
         ]
        }
       ],
       "layout": {
        "geo": {
         "lakecolor": "rgb(255, 255, 255)",
         "projection": {
          "type": "albers usa"
         },
         "scope": "usa",
         "showlakes": true
        },
        "template": {
         "data": {
          "bar": [
           {
            "error_x": {
             "color": "#2a3f5f"
            },
            "error_y": {
             "color": "#2a3f5f"
            },
            "marker": {
             "line": {
              "color": "#E5ECF6",
              "width": 0.5
             }
            },
            "type": "bar"
           }
          ],
          "barpolar": [
           {
            "marker": {
             "line": {
              "color": "#E5ECF6",
              "width": 0.5
             }
            },
            "type": "barpolar"
           }
          ],
          "carpet": [
           {
            "aaxis": {
             "endlinecolor": "#2a3f5f",
             "gridcolor": "white",
             "linecolor": "white",
             "minorgridcolor": "white",
             "startlinecolor": "#2a3f5f"
            },
            "baxis": {
             "endlinecolor": "#2a3f5f",
             "gridcolor": "white",
             "linecolor": "white",
             "minorgridcolor": "white",
             "startlinecolor": "#2a3f5f"
            },
            "type": "carpet"
           }
          ],
          "choropleth": [
           {
            "colorbar": {
             "outlinewidth": 0,
             "ticks": ""
            },
            "type": "choropleth"
           }
          ],
          "contour": [
           {
            "colorbar": {
             "outlinewidth": 0,
             "ticks": ""
            },
            "colorscale": [
             [
              0,
              "#0d0887"
             ],
             [
              0.1111111111111111,
              "#46039f"
             ],
             [
              0.2222222222222222,
              "#7201a8"
             ],
             [
              0.3333333333333333,
              "#9c179e"
             ],
             [
              0.4444444444444444,
              "#bd3786"
             ],
             [
              0.5555555555555556,
              "#d8576b"
             ],
             [
              0.6666666666666666,
              "#ed7953"
             ],
             [
              0.7777777777777778,
              "#fb9f3a"
             ],
             [
              0.8888888888888888,
              "#fdca26"
             ],
             [
              1,
              "#f0f921"
             ]
            ],
            "type": "contour"
           }
          ],
          "contourcarpet": [
           {
            "colorbar": {
             "outlinewidth": 0,
             "ticks": ""
            },
            "type": "contourcarpet"
           }
          ],
          "heatmap": [
           {
            "colorbar": {
             "outlinewidth": 0,
             "ticks": ""
            },
            "colorscale": [
             [
              0,
              "#0d0887"
             ],
             [
              0.1111111111111111,
              "#46039f"
             ],
             [
              0.2222222222222222,
              "#7201a8"
             ],
             [
              0.3333333333333333,
              "#9c179e"
             ],
             [
              0.4444444444444444,
              "#bd3786"
             ],
             [
              0.5555555555555556,
              "#d8576b"
             ],
             [
              0.6666666666666666,
              "#ed7953"
             ],
             [
              0.7777777777777778,
              "#fb9f3a"
             ],
             [
              0.8888888888888888,
              "#fdca26"
             ],
             [
              1,
              "#f0f921"
             ]
            ],
            "type": "heatmap"
           }
          ],
          "heatmapgl": [
           {
            "colorbar": {
             "outlinewidth": 0,
             "ticks": ""
            },
            "colorscale": [
             [
              0,
              "#0d0887"
             ],
             [
              0.1111111111111111,
              "#46039f"
             ],
             [
              0.2222222222222222,
              "#7201a8"
             ],
             [
              0.3333333333333333,
              "#9c179e"
             ],
             [
              0.4444444444444444,
              "#bd3786"
             ],
             [
              0.5555555555555556,
              "#d8576b"
             ],
             [
              0.6666666666666666,
              "#ed7953"
             ],
             [
              0.7777777777777778,
              "#fb9f3a"
             ],
             [
              0.8888888888888888,
              "#fdca26"
             ],
             [
              1,
              "#f0f921"
             ]
            ],
            "type": "heatmapgl"
           }
          ],
          "histogram": [
           {
            "marker": {
             "colorbar": {
              "outlinewidth": 0,
              "ticks": ""
             }
            },
            "type": "histogram"
           }
          ],
          "histogram2d": [
           {
            "colorbar": {
             "outlinewidth": 0,
             "ticks": ""
            },
            "colorscale": [
             [
              0,
              "#0d0887"
             ],
             [
              0.1111111111111111,
              "#46039f"
             ],
             [
              0.2222222222222222,
              "#7201a8"
             ],
             [
              0.3333333333333333,
              "#9c179e"
             ],
             [
              0.4444444444444444,
              "#bd3786"
             ],
             [
              0.5555555555555556,
              "#d8576b"
             ],
             [
              0.6666666666666666,
              "#ed7953"
             ],
             [
              0.7777777777777778,
              "#fb9f3a"
             ],
             [
              0.8888888888888888,
              "#fdca26"
             ],
             [
              1,
              "#f0f921"
             ]
            ],
            "type": "histogram2d"
           }
          ],
          "histogram2dcontour": [
           {
            "colorbar": {
             "outlinewidth": 0,
             "ticks": ""
            },
            "colorscale": [
             [
              0,
              "#0d0887"
             ],
             [
              0.1111111111111111,
              "#46039f"
             ],
             [
              0.2222222222222222,
              "#7201a8"
             ],
             [
              0.3333333333333333,
              "#9c179e"
             ],
             [
              0.4444444444444444,
              "#bd3786"
             ],
             [
              0.5555555555555556,
              "#d8576b"
             ],
             [
              0.6666666666666666,
              "#ed7953"
             ],
             [
              0.7777777777777778,
              "#fb9f3a"
             ],
             [
              0.8888888888888888,
              "#fdca26"
             ],
             [
              1,
              "#f0f921"
             ]
            ],
            "type": "histogram2dcontour"
           }
          ],
          "mesh3d": [
           {
            "colorbar": {
             "outlinewidth": 0,
             "ticks": ""
            },
            "type": "mesh3d"
           }
          ],
          "parcoords": [
           {
            "line": {
             "colorbar": {
              "outlinewidth": 0,
              "ticks": ""
             }
            },
            "type": "parcoords"
           }
          ],
          "pie": [
           {
            "automargin": true,
            "type": "pie"
           }
          ],
          "scatter": [
           {
            "marker": {
             "colorbar": {
              "outlinewidth": 0,
              "ticks": ""
             }
            },
            "type": "scatter"
           }
          ],
          "scatter3d": [
           {
            "line": {
             "colorbar": {
              "outlinewidth": 0,
              "ticks": ""
             }
            },
            "marker": {
             "colorbar": {
              "outlinewidth": 0,
              "ticks": ""
             }
            },
            "type": "scatter3d"
           }
          ],
          "scattercarpet": [
           {
            "marker": {
             "colorbar": {
              "outlinewidth": 0,
              "ticks": ""
             }
            },
            "type": "scattercarpet"
           }
          ],
          "scattergeo": [
           {
            "marker": {
             "colorbar": {
              "outlinewidth": 0,
              "ticks": ""
             }
            },
            "type": "scattergeo"
           }
          ],
          "scattergl": [
           {
            "marker": {
             "colorbar": {
              "outlinewidth": 0,
              "ticks": ""
             }
            },
            "type": "scattergl"
           }
          ],
          "scattermapbox": [
           {
            "marker": {
             "colorbar": {
              "outlinewidth": 0,
              "ticks": ""
             }
            },
            "type": "scattermapbox"
           }
          ],
          "scatterpolar": [
           {
            "marker": {
             "colorbar": {
              "outlinewidth": 0,
              "ticks": ""
             }
            },
            "type": "scatterpolar"
           }
          ],
          "scatterpolargl": [
           {
            "marker": {
             "colorbar": {
              "outlinewidth": 0,
              "ticks": ""
             }
            },
            "type": "scatterpolargl"
           }
          ],
          "scatterternary": [
           {
            "marker": {
             "colorbar": {
              "outlinewidth": 0,
              "ticks": ""
             }
            },
            "type": "scatterternary"
           }
          ],
          "surface": [
           {
            "colorbar": {
             "outlinewidth": 0,
             "ticks": ""
            },
            "colorscale": [
             [
              0,
              "#0d0887"
             ],
             [
              0.1111111111111111,
              "#46039f"
             ],
             [
              0.2222222222222222,
              "#7201a8"
             ],
             [
              0.3333333333333333,
              "#9c179e"
             ],
             [
              0.4444444444444444,
              "#bd3786"
             ],
             [
              0.5555555555555556,
              "#d8576b"
             ],
             [
              0.6666666666666666,
              "#ed7953"
             ],
             [
              0.7777777777777778,
              "#fb9f3a"
             ],
             [
              0.8888888888888888,
              "#fdca26"
             ],
             [
              1,
              "#f0f921"
             ]
            ],
            "type": "surface"
           }
          ],
          "table": [
           {
            "cells": {
             "fill": {
              "color": "#EBF0F8"
             },
             "line": {
              "color": "white"
             }
            },
            "header": {
             "fill": {
              "color": "#C8D4E3"
             },
             "line": {
              "color": "white"
             }
            },
            "type": "table"
           }
          ]
         },
         "layout": {
          "annotationdefaults": {
           "arrowcolor": "#2a3f5f",
           "arrowhead": 0,
           "arrowwidth": 1
          },
          "coloraxis": {
           "colorbar": {
            "outlinewidth": 0,
            "ticks": ""
           }
          },
          "colorscale": {
           "diverging": [
            [
             0,
             "#8e0152"
            ],
            [
             0.1,
             "#c51b7d"
            ],
            [
             0.2,
             "#de77ae"
            ],
            [
             0.3,
             "#f1b6da"
            ],
            [
             0.4,
             "#fde0ef"
            ],
            [
             0.5,
             "#f7f7f7"
            ],
            [
             0.6,
             "#e6f5d0"
            ],
            [
             0.7,
             "#b8e186"
            ],
            [
             0.8,
             "#7fbc41"
            ],
            [
             0.9,
             "#4d9221"
            ],
            [
             1,
             "#276419"
            ]
           ],
           "sequential": [
            [
             0,
             "#0d0887"
            ],
            [
             0.1111111111111111,
             "#46039f"
            ],
            [
             0.2222222222222222,
             "#7201a8"
            ],
            [
             0.3333333333333333,
             "#9c179e"
            ],
            [
             0.4444444444444444,
             "#bd3786"
            ],
            [
             0.5555555555555556,
             "#d8576b"
            ],
            [
             0.6666666666666666,
             "#ed7953"
            ],
            [
             0.7777777777777778,
             "#fb9f3a"
            ],
            [
             0.8888888888888888,
             "#fdca26"
            ],
            [
             1,
             "#f0f921"
            ]
           ],
           "sequentialminus": [
            [
             0,
             "#0d0887"
            ],
            [
             0.1111111111111111,
             "#46039f"
            ],
            [
             0.2222222222222222,
             "#7201a8"
            ],
            [
             0.3333333333333333,
             "#9c179e"
            ],
            [
             0.4444444444444444,
             "#bd3786"
            ],
            [
             0.5555555555555556,
             "#d8576b"
            ],
            [
             0.6666666666666666,
             "#ed7953"
            ],
            [
             0.7777777777777778,
             "#fb9f3a"
            ],
            [
             0.8888888888888888,
             "#fdca26"
            ],
            [
             1,
             "#f0f921"
            ]
           ]
          },
          "colorway": [
           "#636efa",
           "#EF553B",
           "#00cc96",
           "#ab63fa",
           "#FFA15A",
           "#19d3f3",
           "#FF6692",
           "#B6E880",
           "#FF97FF",
           "#FECB52"
          ],
          "font": {
           "color": "#2a3f5f"
          },
          "geo": {
           "bgcolor": "white",
           "lakecolor": "white",
           "landcolor": "#E5ECF6",
           "showlakes": true,
           "showland": true,
           "subunitcolor": "white"
          },
          "hoverlabel": {
           "align": "left"
          },
          "hovermode": "closest",
          "mapbox": {
           "style": "light"
          },
          "paper_bgcolor": "white",
          "plot_bgcolor": "#E5ECF6",
          "polar": {
           "angularaxis": {
            "gridcolor": "white",
            "linecolor": "white",
            "ticks": ""
           },
           "bgcolor": "#E5ECF6",
           "radialaxis": {
            "gridcolor": "white",
            "linecolor": "white",
            "ticks": ""
           }
          },
          "scene": {
           "xaxis": {
            "backgroundcolor": "#E5ECF6",
            "gridcolor": "white",
            "gridwidth": 2,
            "linecolor": "white",
            "showbackground": true,
            "ticks": "",
            "zerolinecolor": "white"
           },
           "yaxis": {
            "backgroundcolor": "#E5ECF6",
            "gridcolor": "white",
            "gridwidth": 2,
            "linecolor": "white",
            "showbackground": true,
            "ticks": "",
            "zerolinecolor": "white"
           },
           "zaxis": {
            "backgroundcolor": "#E5ECF6",
            "gridcolor": "white",
            "gridwidth": 2,
            "linecolor": "white",
            "showbackground": true,
            "ticks": "",
            "zerolinecolor": "white"
           }
          },
          "shapedefaults": {
           "line": {
            "color": "#2a3f5f"
           }
          },
          "ternary": {
           "aaxis": {
            "gridcolor": "white",
            "linecolor": "white",
            "ticks": ""
           },
           "baxis": {
            "gridcolor": "white",
            "linecolor": "white",
            "ticks": ""
           },
           "bgcolor": "#E5ECF6",
           "caxis": {
            "gridcolor": "white",
            "linecolor": "white",
            "ticks": ""
           }
          },
          "title": {
           "x": 0.05
          },
          "xaxis": {
           "automargin": true,
           "gridcolor": "white",
           "linecolor": "white",
           "ticks": "",
           "title": {
            "standoff": 15
           },
           "zerolinecolor": "white",
           "zerolinewidth": 2
          },
          "yaxis": {
           "automargin": true,
           "gridcolor": "white",
           "linecolor": "white",
           "ticks": "",
           "title": {
            "standoff": 15
           },
           "zerolinecolor": "white",
           "zerolinewidth": 2
          }
         }
        },
        "title": {
         "text": "Number of Complaints by State"
        }
       }
      },
      "text/html": [
       "<div>\n",
       "        \n",
       "        \n",
       "            <div id=\"7b227e8e-1e43-43f1-ba72-c2d29b562982\" class=\"plotly-graph-div\" style=\"height:525px; width:100%;\"></div>\n",
       "            <script type=\"text/javascript\">\n",
       "                require([\"plotly\"], function(Plotly) {\n",
       "                    window.PLOTLYENV=window.PLOTLYENV || {};\n",
       "                    \n",
       "                if (document.getElementById(\"7b227e8e-1e43-43f1-ba72-c2d29b562982\")) {\n",
       "                    Plotly.newPlot(\n",
       "                        '7b227e8e-1e43-43f1-ba72-c2d29b562982',\n",
       "                        [{\"autocolorscale\": false, \"colorbar\": {\"title\": {\"text\": \"# of complaints\"}}, \"colorscale\": [[0.0, \"rgb(103,0,31)\"], [0.1, \"rgb(178,24,43)\"], [0.2, \"rgb(214,96,77)\"], [0.3, \"rgb(244,165,130)\"], [0.4, \"rgb(253,219,199)\"], [0.5, \"rgb(247,247,247)\"], [0.6, \"rgb(209,229,240)\"], [0.7, \"rgb(146,197,222)\"], [0.8, \"rgb(67,147,195)\"], [0.9, \"rgb(33,102,172)\"], [1.0, \"rgb(5,48,97)\"]], \"locationmode\": \"USA-states\", \"locations\": [\"CA\", \"FL\", \"TX\", \"NY\", \"GA\", \"IL\", \"NJ\", \"PA\", \"NC\", \"OH\", \"VA\", \"MD\", \"MI\", \"AZ\", \"WA\", \"TN\", \"MA\", \"SC\", \"CO\", \"MO\", \"NV\", \"AL\", \"LA\", \"IN\", \"CT\", \"MN\", \"WI\", \"OR\", \"AR\", \"UT\", \"KY\", \"OK\", \"MS\", \"DC\", \"DE\", \"KS\", \"NM\", \"IA\", \"NH\", \"HI\", \"ID\", \"RI\", \"NE\", \"ME\", \"PR\", \"WV\", \"MT\", \"VT\", \"SD\", \"AK\", \"WY\", \"ND\", \"AE\", \"AP\", \"VI\", \"GU\", \"FM\", \"UNITED STATES MINOR OUTLYING ISLANDS\", \"AA\", \"MP\", \"AS\", \"MH\", \"PW\"], \"marker\": {\"line\": {\"color\": \"rgb(255,255,255)\", \"width\": 2}}, \"reversescale\": true, \"text\": [\"State Code: CA<br>\", \"State Code: FL<br>\", \"State Code: TX<br>\", \"State Code: NY<br>\", \"State Code: GA<br>\", \"State Code: IL<br>\", \"State Code: NJ<br>\", \"State Code: PA<br>\", \"State Code: NC<br>\", \"State Code: OH<br>\", \"State Code: VA<br>\", \"State Code: MD<br>\", \"State Code: MI<br>\", \"State Code: AZ<br>\", \"State Code: WA<br>\", \"State Code: TN<br>\", \"State Code: MA<br>\", \"State Code: SC<br>\", \"State Code: CO<br>\", \"State Code: MO<br>\", \"State Code: NV<br>\", \"State Code: AL<br>\", \"State Code: LA<br>\", \"State Code: IN<br>\", \"State Code: CT<br>\", \"State Code: MN<br>\", \"State Code: WI<br>\", \"State Code: OR<br>\", \"State Code: AR<br>\", \"State Code: UT<br>\", \"State Code: KY<br>\", \"State Code: OK<br>\", \"State Code: MS<br>\", \"State Code: DC<br>\", \"State Code: DE<br>\", \"State Code: KS<br>\", \"State Code: NM<br>\", \"State Code: IA<br>\", \"State Code: NH<br>\", \"State Code: HI<br>\", \"State Code: ID<br>\", \"State Code: RI<br>\", \"State Code: NE<br>\", \"State Code: ME<br>\", \"State Code: PR<br>\", \"State Code: WV<br>\", \"State Code: MT<br>\", \"State Code: VT<br>\", \"State Code: SD<br>\", \"State Code: AK<br>\", \"State Code: WY<br>\", \"State Code: ND<br>\", \"State Code: AE<br>\", \"State Code: AP<br>\", \"State Code: VI<br>\", \"State Code: GU<br>\", \"State Code: FM<br>\", \"State Code: UNITED STATES MINOR OUTLYING ISLANDS<br>\", \"State Code: AA<br>\", \"State Code: MP<br>\", \"State Code: AS<br>\", \"State Code: MH<br>\", \"State Code: PW<br>\"], \"type\": \"choropleth\", \"z\": [228835, 183500, 149195, 115611, 93001, 64407, 60549, 59307, 51868, 49165, 46478, 45576, 38190, 34097, 29714, 29420, 29111, 26357, 25427, 23742, 22825, 22169, 21833, 18297, 17992, 16657, 16231, 15520, 13086, 11788, 11138, 10090, 9962, 8742, 8045, 7644, 6802, 6199, 5580, 4978, 4695, 4587, 4343, 4184, 3954, 3692, 2459, 1971, 1826, 1771, 1500, 1491, 595, 416, 272, 212, 115, 69, 35, 34, 32, 31, 13]}],\n",
       "                        {\"geo\": {\"lakecolor\": \"rgb(255, 255, 255)\", \"projection\": {\"type\": \"albers usa\"}, \"scope\": \"usa\", \"showlakes\": true}, \"template\": {\"data\": {\"bar\": [{\"error_x\": {\"color\": \"#2a3f5f\"}, \"error_y\": {\"color\": \"#2a3f5f\"}, \"marker\": {\"line\": {\"color\": \"#E5ECF6\", \"width\": 0.5}}, \"type\": \"bar\"}], \"barpolar\": [{\"marker\": {\"line\": {\"color\": \"#E5ECF6\", \"width\": 0.5}}, \"type\": \"barpolar\"}], \"carpet\": [{\"aaxis\": {\"endlinecolor\": \"#2a3f5f\", \"gridcolor\": \"white\", \"linecolor\": \"white\", \"minorgridcolor\": \"white\", \"startlinecolor\": \"#2a3f5f\"}, \"baxis\": {\"endlinecolor\": \"#2a3f5f\", \"gridcolor\": \"white\", \"linecolor\": \"white\", \"minorgridcolor\": \"white\", \"startlinecolor\": \"#2a3f5f\"}, \"type\": \"carpet\"}], \"choropleth\": [{\"colorbar\": {\"outlinewidth\": 0, \"ticks\": \"\"}, \"type\": \"choropleth\"}], \"contour\": [{\"colorbar\": {\"outlinewidth\": 0, \"ticks\": \"\"}, \"colorscale\": [[0.0, \"#0d0887\"], [0.1111111111111111, \"#46039f\"], [0.2222222222222222, \"#7201a8\"], [0.3333333333333333, \"#9c179e\"], [0.4444444444444444, \"#bd3786\"], [0.5555555555555556, \"#d8576b\"], [0.6666666666666666, \"#ed7953\"], [0.7777777777777778, \"#fb9f3a\"], [0.8888888888888888, \"#fdca26\"], [1.0, \"#f0f921\"]], \"type\": \"contour\"}], \"contourcarpet\": [{\"colorbar\": {\"outlinewidth\": 0, \"ticks\": \"\"}, \"type\": \"contourcarpet\"}], \"heatmap\": [{\"colorbar\": {\"outlinewidth\": 0, \"ticks\": \"\"}, \"colorscale\": [[0.0, \"#0d0887\"], [0.1111111111111111, \"#46039f\"], [0.2222222222222222, \"#7201a8\"], [0.3333333333333333, \"#9c179e\"], [0.4444444444444444, \"#bd3786\"], [0.5555555555555556, \"#d8576b\"], [0.6666666666666666, \"#ed7953\"], [0.7777777777777778, \"#fb9f3a\"], [0.8888888888888888, \"#fdca26\"], [1.0, \"#f0f921\"]], \"type\": \"heatmap\"}], \"heatmapgl\": [{\"colorbar\": {\"outlinewidth\": 0, \"ticks\": \"\"}, \"colorscale\": [[0.0, \"#0d0887\"], [0.1111111111111111, \"#46039f\"], [0.2222222222222222, \"#7201a8\"], [0.3333333333333333, \"#9c179e\"], [0.4444444444444444, \"#bd3786\"], [0.5555555555555556, \"#d8576b\"], [0.6666666666666666, \"#ed7953\"], [0.7777777777777778, \"#fb9f3a\"], [0.8888888888888888, \"#fdca26\"], [1.0, \"#f0f921\"]], \"type\": \"heatmapgl\"}], \"histogram\": [{\"marker\": {\"colorbar\": {\"outlinewidth\": 0, \"ticks\": \"\"}}, \"type\": \"histogram\"}], \"histogram2d\": [{\"colorbar\": {\"outlinewidth\": 0, \"ticks\": \"\"}, \"colorscale\": [[0.0, \"#0d0887\"], [0.1111111111111111, \"#46039f\"], [0.2222222222222222, \"#7201a8\"], [0.3333333333333333, \"#9c179e\"], [0.4444444444444444, \"#bd3786\"], [0.5555555555555556, \"#d8576b\"], [0.6666666666666666, \"#ed7953\"], [0.7777777777777778, \"#fb9f3a\"], [0.8888888888888888, \"#fdca26\"], [1.0, \"#f0f921\"]], \"type\": \"histogram2d\"}], \"histogram2dcontour\": [{\"colorbar\": {\"outlinewidth\": 0, \"ticks\": \"\"}, \"colorscale\": [[0.0, \"#0d0887\"], [0.1111111111111111, \"#46039f\"], [0.2222222222222222, \"#7201a8\"], [0.3333333333333333, \"#9c179e\"], [0.4444444444444444, \"#bd3786\"], [0.5555555555555556, \"#d8576b\"], [0.6666666666666666, \"#ed7953\"], [0.7777777777777778, \"#fb9f3a\"], [0.8888888888888888, \"#fdca26\"], [1.0, \"#f0f921\"]], \"type\": \"histogram2dcontour\"}], \"mesh3d\": [{\"colorbar\": {\"outlinewidth\": 0, \"ticks\": \"\"}, \"type\": \"mesh3d\"}], \"parcoords\": [{\"line\": {\"colorbar\": {\"outlinewidth\": 0, \"ticks\": \"\"}}, \"type\": \"parcoords\"}], \"pie\": [{\"automargin\": true, \"type\": \"pie\"}], \"scatter\": [{\"marker\": {\"colorbar\": {\"outlinewidth\": 0, \"ticks\": \"\"}}, \"type\": \"scatter\"}], \"scatter3d\": [{\"line\": {\"colorbar\": {\"outlinewidth\": 0, \"ticks\": \"\"}}, \"marker\": {\"colorbar\": {\"outlinewidth\": 0, \"ticks\": \"\"}}, \"type\": \"scatter3d\"}], \"scattercarpet\": [{\"marker\": {\"colorbar\": {\"outlinewidth\": 0, \"ticks\": \"\"}}, \"type\": \"scattercarpet\"}], \"scattergeo\": [{\"marker\": {\"colorbar\": {\"outlinewidth\": 0, \"ticks\": \"\"}}, \"type\": \"scattergeo\"}], \"scattergl\": [{\"marker\": {\"colorbar\": {\"outlinewidth\": 0, \"ticks\": \"\"}}, \"type\": \"scattergl\"}], \"scattermapbox\": [{\"marker\": {\"colorbar\": {\"outlinewidth\": 0, \"ticks\": \"\"}}, \"type\": \"scattermapbox\"}], \"scatterpolar\": [{\"marker\": {\"colorbar\": {\"outlinewidth\": 0, \"ticks\": \"\"}}, \"type\": \"scatterpolar\"}], \"scatterpolargl\": [{\"marker\": {\"colorbar\": {\"outlinewidth\": 0, \"ticks\": \"\"}}, \"type\": \"scatterpolargl\"}], \"scatterternary\": [{\"marker\": {\"colorbar\": {\"outlinewidth\": 0, \"ticks\": \"\"}}, \"type\": \"scatterternary\"}], \"surface\": [{\"colorbar\": {\"outlinewidth\": 0, \"ticks\": \"\"}, \"colorscale\": [[0.0, \"#0d0887\"], [0.1111111111111111, \"#46039f\"], [0.2222222222222222, \"#7201a8\"], [0.3333333333333333, \"#9c179e\"], [0.4444444444444444, \"#bd3786\"], [0.5555555555555556, \"#d8576b\"], [0.6666666666666666, \"#ed7953\"], [0.7777777777777778, \"#fb9f3a\"], [0.8888888888888888, \"#fdca26\"], [1.0, \"#f0f921\"]], \"type\": \"surface\"}], \"table\": [{\"cells\": {\"fill\": {\"color\": \"#EBF0F8\"}, \"line\": {\"color\": \"white\"}}, \"header\": {\"fill\": {\"color\": \"#C8D4E3\"}, \"line\": {\"color\": \"white\"}}, \"type\": \"table\"}]}, \"layout\": {\"annotationdefaults\": {\"arrowcolor\": \"#2a3f5f\", \"arrowhead\": 0, \"arrowwidth\": 1}, \"coloraxis\": {\"colorbar\": {\"outlinewidth\": 0, \"ticks\": \"\"}}, \"colorscale\": {\"diverging\": [[0, \"#8e0152\"], [0.1, \"#c51b7d\"], [0.2, \"#de77ae\"], [0.3, \"#f1b6da\"], [0.4, \"#fde0ef\"], [0.5, \"#f7f7f7\"], [0.6, \"#e6f5d0\"], [0.7, \"#b8e186\"], [0.8, \"#7fbc41\"], [0.9, \"#4d9221\"], [1, \"#276419\"]], \"sequential\": [[0.0, \"#0d0887\"], [0.1111111111111111, \"#46039f\"], [0.2222222222222222, \"#7201a8\"], [0.3333333333333333, \"#9c179e\"], [0.4444444444444444, \"#bd3786\"], [0.5555555555555556, \"#d8576b\"], [0.6666666666666666, \"#ed7953\"], [0.7777777777777778, \"#fb9f3a\"], [0.8888888888888888, \"#fdca26\"], [1.0, \"#f0f921\"]], \"sequentialminus\": [[0.0, \"#0d0887\"], [0.1111111111111111, \"#46039f\"], [0.2222222222222222, \"#7201a8\"], [0.3333333333333333, \"#9c179e\"], [0.4444444444444444, \"#bd3786\"], [0.5555555555555556, \"#d8576b\"], [0.6666666666666666, \"#ed7953\"], [0.7777777777777778, \"#fb9f3a\"], [0.8888888888888888, \"#fdca26\"], [1.0, \"#f0f921\"]]}, \"colorway\": [\"#636efa\", \"#EF553B\", \"#00cc96\", \"#ab63fa\", \"#FFA15A\", \"#19d3f3\", \"#FF6692\", \"#B6E880\", \"#FF97FF\", \"#FECB52\"], \"font\": {\"color\": \"#2a3f5f\"}, \"geo\": {\"bgcolor\": \"white\", \"lakecolor\": \"white\", \"landcolor\": \"#E5ECF6\", \"showlakes\": true, \"showland\": true, \"subunitcolor\": \"white\"}, \"hoverlabel\": {\"align\": \"left\"}, \"hovermode\": \"closest\", \"mapbox\": {\"style\": \"light\"}, \"paper_bgcolor\": \"white\", \"plot_bgcolor\": \"#E5ECF6\", \"polar\": {\"angularaxis\": {\"gridcolor\": \"white\", \"linecolor\": \"white\", \"ticks\": \"\"}, \"bgcolor\": \"#E5ECF6\", \"radialaxis\": {\"gridcolor\": \"white\", \"linecolor\": \"white\", \"ticks\": \"\"}}, \"scene\": {\"xaxis\": {\"backgroundcolor\": \"#E5ECF6\", \"gridcolor\": \"white\", \"gridwidth\": 2, \"linecolor\": \"white\", \"showbackground\": true, \"ticks\": \"\", \"zerolinecolor\": \"white\"}, \"yaxis\": {\"backgroundcolor\": \"#E5ECF6\", \"gridcolor\": \"white\", \"gridwidth\": 2, \"linecolor\": \"white\", \"showbackground\": true, \"ticks\": \"\", \"zerolinecolor\": \"white\"}, \"zaxis\": {\"backgroundcolor\": \"#E5ECF6\", \"gridcolor\": \"white\", \"gridwidth\": 2, \"linecolor\": \"white\", \"showbackground\": true, \"ticks\": \"\", \"zerolinecolor\": \"white\"}}, \"shapedefaults\": {\"line\": {\"color\": \"#2a3f5f\"}}, \"ternary\": {\"aaxis\": {\"gridcolor\": \"white\", \"linecolor\": \"white\", \"ticks\": \"\"}, \"baxis\": {\"gridcolor\": \"white\", \"linecolor\": \"white\", \"ticks\": \"\"}, \"bgcolor\": \"#E5ECF6\", \"caxis\": {\"gridcolor\": \"white\", \"linecolor\": \"white\", \"ticks\": \"\"}}, \"title\": {\"x\": 0.05}, \"xaxis\": {\"automargin\": true, \"gridcolor\": \"white\", \"linecolor\": \"white\", \"ticks\": \"\", \"title\": {\"standoff\": 15}, \"zerolinecolor\": \"white\", \"zerolinewidth\": 2}, \"yaxis\": {\"automargin\": true, \"gridcolor\": \"white\", \"linecolor\": \"white\", \"ticks\": \"\", \"title\": {\"standoff\": 15}, \"zerolinecolor\": \"white\", \"zerolinewidth\": 2}}}, \"title\": {\"text\": \"Number of Complaints by State\"}},\n",
       "                        {\"responsive\": true}\n",
       "                    ).then(function(){\n",
       "                            \n",
       "var gd = document.getElementById('7b227e8e-1e43-43f1-ba72-c2d29b562982');\n",
       "var x = new MutationObserver(function (mutations, observer) {{\n",
       "        var display = window.getComputedStyle(gd).display;\n",
       "        if (!display || display === 'none') {{\n",
       "            console.log([gd, 'removed!']);\n",
       "            Plotly.purge(gd);\n",
       "            observer.disconnect();\n",
       "        }}\n",
       "}});\n",
       "\n",
       "// Listen for the removal of the full notebook cells\n",
       "var notebookContainer = gd.closest('#notebook-container');\n",
       "if (notebookContainer) {{\n",
       "    x.observe(notebookContainer, {childList: true});\n",
       "}}\n",
       "\n",
       "// Listen for the clearing of the current output cell\n",
       "var outputEl = gd.closest('.output');\n",
       "if (outputEl) {{\n",
       "    x.observe(outputEl, {childList: true});\n",
       "}}\n",
       "\n",
       "                        })\n",
       "                };\n",
       "                });\n",
       "            </script>\n",
       "        </div>"
      ]
     },
     "metadata": {},
     "output_type": "display_data"
    }
   ],
   "source": [
    "# Barplot\n",
    "plotTopComplaints(complaints_processed, agg_col='State', top_n=10, bottom=False, figsize=(14,10))\n",
    "\n",
    "# Map\n",
    "most_cmplts = complaints_processed[['Complaint ID','State']].groupby(['State']).agg(['count'])\n",
    "most_cmplts = most_cmplts.sort_values(by=[('Complaint ID','count')], ascending=False)\n",
    "most_cmplts.reset_index(level=0, inplace=True)\n",
    "\n",
    "most_cmplts['Text'] = 'State Code: ' + most_cmplts['State'] + '<br>'\n",
    "\n",
    "data = [ dict(\n",
    "        type='choropleth',\n",
    "        colorscale = 'RdBu',\n",
    "        autocolorscale = False,\n",
    "        reversescale = True,\n",
    "        locations = most_cmplts['State'],\n",
    "        z = most_cmplts[('Complaint ID','count')], \n",
    "        locationmode = 'USA-states',\n",
    "        text = most_cmplts['Text'],\n",
    "        marker = dict(\n",
    "            line = dict (\n",
    "                color = 'rgb(255,255,255)',\n",
    "                width = 2\n",
    "            ) ),\n",
    "        colorbar = dict(\n",
    "            title = \"# of complaints\")\n",
    "        ) ]\n",
    "\n",
    "layout = dict(\n",
    "    title = 'Number of Complaints by State',\n",
    "    geo = dict(\n",
    "        scope = 'usa',\n",
    "        projection=dict(type='albers usa'),\n",
    "        showlakes = True,\n",
    "        lakecolor = 'rgb(255, 255, 255)')\n",
    ")\n",
    "\n",
    "fig = dict(data=data, layout=layout)\n",
    "iplot(fig, filename='usa-cloropleth-map-by-state')"
   ]
  },
  {
   "cell_type": "markdown",
   "metadata": {},
   "source": [
    "We can see that only 5 States (California, Florida, Texas, New York and Georgia) account for more that 40% of the total complaints."
   ]
  },
  {
   "cell_type": "markdown",
   "metadata": {},
   "source": [
    "Find companies that received the most complaints from their consumers:"
   ]
  },
  {
   "cell_type": "code",
   "execution_count": 15,
   "metadata": {},
   "outputs": [
    {
     "data": {
      "image/png": "[encoded data removed]",
      "text/plain": [
       "<Figure size 1728x576 with 1 Axes>"
      ]
     },
     "metadata": {},
     "output_type": "display_data"
    }
   ],
   "source": [
    "plotTopComplaints(complaints_processed, agg_col='Company', top_n=5, bottom=False, figsize=(24,8))"
   ]
  },
  {
   "cell_type": "markdown",
   "metadata": {},
   "source": [
    "Similarly, the first 5 Companies presented above seem to receive around 40% of the overall amount of complaints."
   ]
  },
  {
   "cell_type": "markdown",
   "metadata": {},
   "source": [
    "Now, before we move to the data preprocessing step and the development of the machine learning algorithms we need to make sure to take into account what we mentioned earlier regarding the Complaint column. As a reminder, only 576502 cases out of the 1706612 from the original dataset were populated. Thus, we will have to reduce our data to retain only the cases for which the text/complaint of the consumer towards the financial institution is known. This is necessary as our project is focused on supervised learning algorithms and it's mandatory to know the both the input (complaint) and the target (Category) variables before we fit them into the model."
   ]
  },
  {
   "cell_type": "code",
   "execution_count": 16,
   "metadata": {},
   "outputs": [
    {
     "data": {
      "text/plain": [
       "(576502, 19)"
      ]
     },
     "execution_count": 16,
     "metadata": {},
     "output_type": "execute_result"
    }
   ],
   "source": [
    "# Filter the dataset to retain only the rows for which the 'Consumer complaint narrative' column is populated\n",
    "complaints_processed = complaints_processed[complaints_processed['Complaint'].notnull()]\n",
    "complaints_processed.shape"
   ]
  },
  {
   "cell_type": "code",
   "execution_count": 17,
   "metadata": {},
   "outputs": [
    {
     "data": {
      "text/plain": [
       "Year         0\n",
       "Complaint    0\n",
       "Product      0\n",
       "dtype: int64"
      ]
     },
     "execution_count": 17,
     "metadata": {},
     "output_type": "execute_result"
    }
   ],
   "source": [
    "relevant_cols = ['Year', 'Complaint', 'Product']\n",
    "complaints_processed = complaints_processed[relevant_cols]\n",
    "\n",
    "complaints_processed.shape\n",
    "complaints_processed.isnull().sum(axis=0)"
   ]
  },
  {
   "cell_type": "markdown",
   "metadata": {},
   "source": [
    "<a id='data_preprocessing'> </a>\n",
    "## Part 3 - Data Preprocessing"
   ]
  },
  {
   "cell_type": "markdown",
   "metadata": {},
   "source": [
    "Before creating the classifiers in order to predict the Product category that a specific complaint should fall into, we will have to deal with the fact the the input to our algorithms (Complaint) has a text format. \n",
    "\n",
    "At first, we will perform the regular text cleaning operations that you are likely to see in any Natural Language Processing task. This includes the creation of tokens (i.e. split each complaint into separate words) and the removal of stopwords, punctuation and numbers from the text, as this information does not offer much into predicting the correct Product category. Finally, we will perform a lemmatization task with which we will convert the words to their base form."
   ]
  },
  {
   "cell_type": "markdown",
   "metadata": {},
   "source": [
    "**Step 1.** Tokenize a sentence into separate words, and filter out words that are stopwords, punctuation, numbers or have the form 'XXX' which indicates classified data."
   ]
  },
  {
   "cell_type": "code",
   "execution_count": 18,
   "metadata": {},
   "outputs": [],
   "source": [
    "def tokenize_sentence(sentence: str, rm_stopwords=True, rm_punctuation=True, rm_numbers=True, rm_classified=True) -> list:\n",
    "    \"\"\"\n",
    "    Tokenize a given string, and return the words as a list.\n",
    "    The function offers functionality to exclude the words that are either\n",
    "    1) a stopword 2) punctuation symbol 3) a number or 4) has the format 'XX'\n",
    "    or 'XXXX' indicates that a word is classified.\n",
    "    \"\"\"\n",
    "    tokenized = [x.lower() for x in word_tokenize(sentence)]\n",
    "    \n",
    "    \n",
    "    if rm_classified == True:\n",
    "        tokenized = [x for x in tokenized if x.lower() != 'xxxx' and\n",
    "                    x.lower() != 'xx' and x.lower() != 'xx/xx/xxxx']\n",
    "    \n",
    "    if rm_stopwords == True:\n",
    "        tokenized = [x for x in tokenized if x not in stop_words]\n",
    "     \n",
    "    if rm_punctuation == True:\n",
    "        tokenized = [x for x in tokenized if x not in string.punctuation]\n",
    "    \n",
    "    if rm_numbers == True:\n",
    "        tokenized = [x for x in tokenized if not x.isdigit()]\n",
    "        \n",
    "    return tokenized"
   ]
  },
  {
   "cell_type": "code",
   "execution_count": 19,
   "metadata": {},
   "outputs": [],
   "source": [
    "stop_words = set(stopwords.words('english')) \n",
    "\n",
    "complaints_processed['Complaint_Tokenized'] = complaints_processed.apply(lambda x: tokenize_sentence(x['Complaint'],\n",
    "                                             rm_stopwords=True, rm_punctuation=True, rm_numbers=True, rm_classified=True),\n",
    "                                             axis=1)"
   ]
  },
  {
   "cell_type": "markdown",
   "metadata": {},
   "source": [
    "**Step 2.** Lemmatize the remaining words left from Step 1"
   ]
  },
  {
   "cell_type": "code",
   "execution_count": 24,
   "metadata": {},
   "outputs": [],
   "source": [
    "def lemmatize_sentence(sentence, return_form = 'string'):\n",
    "    \"\"\"\n",
    "    Lemmatize a given string . \n",
    "    \n",
    "    Input:\n",
    "    ------\n",
    "        sentence: \n",
    "            Sentence that we want to lemmatize each word. The input can be\n",
    "            of the form of tokens (list) or the complete sentence (string).\n",
    "        return_form: \n",
    "            Format of the return function. Can be either a string\n",
    "            with the concatenated lemmatized words or a list of the \n",
    "            lemmatized words.\n",
    "    Returns:\n",
    "    -------\n",
    "        If join_string = True then the function returns the\n",
    "        lemmatized words as a sentence. Else it returns the words as a list.\n",
    "    \"\"\"\n",
    "    # Handle the case where the input is the string without being tokenized\n",
    "    if type(sentence) != list:\n",
    "        sentence = re.findall(r\"[\\w']+|[.,!?;]\", sentence)\n",
    "\n",
    "    lemmatizer = WordNetLemmatizer()\n",
    "    if return_form == 'string':\n",
    "        return ' '.join([lemmatizer.lemmatize(word) for word in sentence])\n",
    "    else:\n",
    "        return [lemmatizer.lemmatize(word) for word in sentence]"
   ]
  },
  {
   "cell_type": "code",
   "execution_count": 25,
   "metadata": {},
   "outputs": [],
   "source": [
    "complaints_processed['Complaint_Clean'] = complaints_processed.apply(lambda x: lemmatize_sentence(x['Complaint_Tokenized'],\n",
    "                           return_form='string'), axis=1)"
   ]
  },
  {
   "cell_type": "markdown",
   "metadata": {},
   "source": [
    "**Step 3.** Finally, we should transform the Product categories into distinct integer values representing the initial categorical values."
   ]
  },
  {
   "cell_type": "code",
   "execution_count": 26,
   "metadata": {},
   "outputs": [],
   "source": [
    "from sklearn.preprocessing import LabelEncoder\n",
    "\n",
    "label_encoder = LabelEncoder()\n",
    "\n",
    "complaints_processed['Product_Id'] = label_encoder.fit_transform(complaints_processed['Product'])"
   ]
  },
  {
   "cell_type": "code",
   "execution_count": 27,
   "metadata": {},
   "outputs": [
    {
     "data": {
      "text/plain": [
       "{0: 'Bank account or service',\n",
       " 1: 'Checking or savings account',\n",
       " 2: 'Consumer Loan',\n",
       " 3: 'Credit card or prepaid card',\n",
       " 4: 'Credit reporting',\n",
       " 5: 'Debt collection',\n",
       " 6: 'Money transfer, virtual currency, or money service',\n",
       " 7: 'Mortgage',\n",
       " 8: 'Other financial service',\n",
       " 9: 'Payday loan, title loan, or personal loan',\n",
       " 10: 'Student loan',\n",
       " 11: 'Vehicle loan or lease'}"
      ]
     },
     "execution_count": 27,
     "metadata": {},
     "output_type": "execute_result"
    }
   ],
   "source": [
    "# Also its good to have the categories as a dictionary\n",
    "product_map = complaints_processed.set_index('Product_Id').to_dict()['Product']\n",
    "product_map"
   ]
  },
  {
   "cell_type": "markdown",
   "metadata": {},
   "source": [
    "After performing the aforementioned preprocessing steps, we can have a look at our final dataframe so we can get a better understanding of what we have done till now. Note that the two columns that we will use in the machine learning models will be the **Complaint_Clean** and the **Product_Id**."
   ]
  },
  {
   "cell_type": "code",
   "execution_count": 28,
   "metadata": {},
   "outputs": [
    {
     "data": {
      "text/html": [
       "<div>\n",
       "<style scoped>\n",
       "    .dataframe tbody tr th:only-of-type {\n",
       "        vertical-align: middle;\n",
       "    }\n",
       "\n",
       "    .dataframe tbody tr th {\n",
       "        vertical-align: top;\n",
       "    }\n",
       "\n",
       "    .dataframe thead th {\n",
       "        text-align: right;\n",
       "    }\n",
       "</style>\n",
       "<table border=\"1\" class=\"dataframe\">\n",
       "  <thead>\n",
       "    <tr style=\"text-align: right;\">\n",
       "      <th></th>\n",
       "      <th>Year</th>\n",
       "      <th>Complaint</th>\n",
       "      <th>Product</th>\n",
       "      <th>Complaint_Tokenized</th>\n",
       "      <th>Complaint_Clean</th>\n",
       "      <th>Product_Id</th>\n",
       "    </tr>\n",
       "  </thead>\n",
       "  <tbody>\n",
       "    <tr>\n",
       "      <th>0</th>\n",
       "      <td>2019</td>\n",
       "      <td>transworld systems inc. \\nis trying to collect...</td>\n",
       "      <td>Debt collection</td>\n",
       "      <td>[transworld, systems, inc., trying, collect, d...</td>\n",
       "      <td>transworld system inc. trying collect debt min...</td>\n",
       "      <td>5</td>\n",
       "    </tr>\n",
       "    <tr>\n",
       "      <th>2</th>\n",
       "      <td>2019</td>\n",
       "      <td>I would like to request the suppression of the...</td>\n",
       "      <td>Credit reporting</td>\n",
       "      <td>[would, like, request, suppression, following,...</td>\n",
       "      <td>would like request suppression following item ...</td>\n",
       "      <td>4</td>\n",
       "    </tr>\n",
       "    <tr>\n",
       "      <th>3</th>\n",
       "      <td>2019</td>\n",
       "      <td>Over the past 2 weeks, I have been receiving e...</td>\n",
       "      <td>Debt collection</td>\n",
       "      <td>[past, weeks, receiving, excessive, amounts, t...</td>\n",
       "      <td>past week receiving excessive amount telephone...</td>\n",
       "      <td>5</td>\n",
       "    </tr>\n",
       "    <tr>\n",
       "      <th>7</th>\n",
       "      <td>2019</td>\n",
       "      <td>I was sold access to an event digitally, of wh...</td>\n",
       "      <td>Money transfer, virtual currency, or money ser...</td>\n",
       "      <td>[sold, access, event, digitally, screenshots, ...</td>\n",
       "      <td>sold access event digitally screenshots detail...</td>\n",
       "      <td>6</td>\n",
       "    </tr>\n",
       "    <tr>\n",
       "      <th>8</th>\n",
       "      <td>2019</td>\n",
       "      <td>This complaint dates back to last XX/XX/XXXX d...</td>\n",
       "      <td>Mortgage</td>\n",
       "      <td>[complaint, dates, back, last, loan, modificat...</td>\n",
       "      <td>complaint date back last loan modification don...</td>\n",
       "      <td>7</td>\n",
       "    </tr>\n",
       "    <tr>\n",
       "      <th>9</th>\n",
       "      <td>2020</td>\n",
       "      <td>My credit has been compromised. I found out be...</td>\n",
       "      <td>Credit reporting</td>\n",
       "      <td>[credit, compromised, found, sent, email, need...</td>\n",
       "      <td>credit compromised found sent email needed tak...</td>\n",
       "      <td>4</td>\n",
       "    </tr>\n",
       "    <tr>\n",
       "      <th>11</th>\n",
       "      <td>2019</td>\n",
       "      <td>Today XX/XX/XXXX went online to dispute the in...</td>\n",
       "      <td>Credit reporting</td>\n",
       "      <td>[today, went, online, dispute, incorrect, pers...</td>\n",
       "      <td>today went online dispute incorrect personal i...</td>\n",
       "      <td>4</td>\n",
       "    </tr>\n",
       "    <tr>\n",
       "      <th>13</th>\n",
       "      <td>2019</td>\n",
       "      <td>XXXX is reporting incorrectly to Equifax and X...</td>\n",
       "      <td>Credit reporting</td>\n",
       "      <td>[reporting, incorrectly, equifax, account, bal...</td>\n",
       "      <td>reporting incorrectly equifax account balance ...</td>\n",
       "      <td>4</td>\n",
       "    </tr>\n",
       "    <tr>\n",
       "      <th>14</th>\n",
       "      <td>2019</td>\n",
       "      <td>Please reverse the late payments reported on t...</td>\n",
       "      <td>Credit reporting</td>\n",
       "      <td>[please, reverse, late, payments, reported, fo...</td>\n",
       "      <td>please reverse late payment reported following...</td>\n",
       "      <td>4</td>\n",
       "    </tr>\n",
       "    <tr>\n",
       "      <th>15</th>\n",
       "      <td>2020</td>\n",
       "      <td>I received an email from a XXXX XXXX along wit...</td>\n",
       "      <td>Debt collection</td>\n",
       "      <td>[received, email, along, single, page, attache...</td>\n",
       "      <td>received email along single page attached emai...</td>\n",
       "      <td>5</td>\n",
       "    </tr>\n",
       "  </tbody>\n",
       "</table>\n",
       "</div>"
      ],
      "text/plain": [
       "    Year                                          Complaint  \\\n",
       "0   2019  transworld systems inc. \\nis trying to collect...   \n",
       "2   2019  I would like to request the suppression of the...   \n",
       "3   2019  Over the past 2 weeks, I have been receiving e...   \n",
       "7   2019  I was sold access to an event digitally, of wh...   \n",
       "8   2019  This complaint dates back to last XX/XX/XXXX d...   \n",
       "9   2020  My credit has been compromised. I found out be...   \n",
       "11  2019  Today XX/XX/XXXX went online to dispute the in...   \n",
       "13  2019  XXXX is reporting incorrectly to Equifax and X...   \n",
       "14  2019  Please reverse the late payments reported on t...   \n",
       "15  2020  I received an email from a XXXX XXXX along wit...   \n",
       "\n",
       "                                              Product  \\\n",
       "0                                     Debt collection   \n",
       "2                                    Credit reporting   \n",
       "3                                     Debt collection   \n",
       "7   Money transfer, virtual currency, or money ser...   \n",
       "8                                            Mortgage   \n",
       "9                                    Credit reporting   \n",
       "11                                   Credit reporting   \n",
       "13                                   Credit reporting   \n",
       "14                                   Credit reporting   \n",
       "15                                    Debt collection   \n",
       "\n",
       "                                  Complaint_Tokenized  \\\n",
       "0   [transworld, systems, inc., trying, collect, d...   \n",
       "2   [would, like, request, suppression, following,...   \n",
       "3   [past, weeks, receiving, excessive, amounts, t...   \n",
       "7   [sold, access, event, digitally, screenshots, ...   \n",
       "8   [complaint, dates, back, last, loan, modificat...   \n",
       "9   [credit, compromised, found, sent, email, need...   \n",
       "11  [today, went, online, dispute, incorrect, pers...   \n",
       "13  [reporting, incorrectly, equifax, account, bal...   \n",
       "14  [please, reverse, late, payments, reported, fo...   \n",
       "15  [received, email, along, single, page, attache...   \n",
       "\n",
       "                                      Complaint_Clean  Product_Id  \n",
       "0   transworld system inc. trying collect debt min...           5  \n",
       "2   would like request suppression following item ...           4  \n",
       "3   past week receiving excessive amount telephone...           5  \n",
       "7   sold access event digitally screenshots detail...           6  \n",
       "8   complaint date back last loan modification don...           7  \n",
       "9   credit compromised found sent email needed tak...           4  \n",
       "11  today went online dispute incorrect personal i...           4  \n",
       "13  reporting incorrectly equifax account balance ...           4  \n",
       "14  please reverse late payment reported following...           4  \n",
       "15  received email along single page attached emai...           5  "
      ]
     },
     "execution_count": 28,
     "metadata": {},
     "output_type": "execute_result"
    }
   ],
   "source": [
    "complaints_processed.head(10)"
   ]
  },
  {
   "cell_type": "markdown",
   "metadata": {},
   "source": [
    "<a id='model_creation'></a>\n",
    "## Part 4 - Model Creation and Evaluation"
   ]
  },
  {
   "cell_type": "markdown",
   "metadata": {},
   "source": [
    "Before we create the models, we have to split the dataset into training (80%) and test samples (20%)."
   ]
  },
  {
   "cell_type": "code",
   "execution_count": 29,
   "metadata": {},
   "outputs": [],
   "source": [
    "from sklearn.model_selection import train_test_split, cross_val_score, GridSearchCV\n",
    "\n",
    "X = complaints_processed['Complaint_Clean']\n",
    "y = complaints_processed['Product_Id']"
   ]
  },
  {
   "cell_type": "code",
   "execution_count": 30,
   "metadata": {},
   "outputs": [],
   "source": [
    "# Use the stratify parameter in order to split the target variabe (categories) evenly among train and test sets.\n",
    "X_train, X_test, y_train, y_test = train_test_split(X, y, test_size=0.2, random_state=42, stratify=y)"
   ]
  },
  {
   "cell_type": "markdown",
   "metadata": {},
   "source": [
    "At this stage we have cleaned and preprocessed the dataset, and reformatted it in a way that will allow us to develop the prediction algorithms. Before we move to the next part, we have to summarize the steps that we need to take in order to successfully create well-behaved algorithms."
   ]
  },
  {
   "cell_type": "markdown",
   "metadata": {},
   "source": [
    "<a id='multinomial_nb'></a>\n",
    "### Multinomial Naive Bayes Classifier"
   ]
  },
  {
   "cell_type": "code",
   "execution_count": 36,
   "metadata": {},
   "outputs": [],
   "source": [
    "from sklearn.feature_extraction.text import CountVectorizer, TfidfVectorizer\n",
    "from sklearn.pipeline import Pipeline\n",
    "from sklearn.naive_bayes import MultinomialNB"
   ]
  },
  {
   "cell_type": "code",
   "execution_count": 37,
   "metadata": {},
   "outputs": [],
   "source": [
    "# Multinomial Naive Bayes model\n",
    "pipeline_mnb = Pipeline(steps = [('TfIdf', TfidfVectorizer()),\n",
    "                              ('MultinomialNB', MultinomialNB())])"
   ]
  },
  {
   "cell_type": "code",
   "execution_count": 38,
   "metadata": {},
   "outputs": [],
   "source": [
    "# Parameter values to test\n",
    "param_grid = {\n",
    " 'TfIdf__max_features' : [3000, 4000, 5000],\n",
    "# 'TfIdf__min_df': [10, 20, 30],\n",
    " 'TfIdf__ngram_range' : [(1,1)],\n",
    " 'TfIdf__use_idf' : [True],\n",
    " 'MultinomialNB__alpha' : [0.01, 0.05, 0.1]\n",
    "}"
   ]
  },
  {
   "cell_type": "code",
   "execution_count": 39,
   "metadata": {},
   "outputs": [],
   "source": [
    "grid_search_mnb = GridSearchCV(pipeline_mnb, param_grid, cv=5, verbose=1, n_jobs=6)"
   ]
  },
  {
   "cell_type": "code",
   "execution_count": null,
   "metadata": {},
   "outputs": [],
   "source": [
    "grid_search_mnb.fit(X_train, y_train)"
   ]
  },
  {
   "cell_type": "markdown",
   "metadata": {},
   "source": [
    "We can see which hyperpatameter combination was the optimal for the Naive Bayes classifier:"
   ]
  },
  {
   "cell_type": "code",
   "execution_count": 41,
   "metadata": {},
   "outputs": [
    {
     "data": {
      "text/plain": [
       "{'MultinomialNB__alpha': 0.01,\n",
       " 'TfIdf__max_features': 5000,\n",
       " 'TfIdf__ngram_range': (1, 1),\n",
       " 'TfIdf__use_idf': True}"
      ]
     },
     "execution_count": 41,
     "metadata": {},
     "output_type": "execute_result"
    }
   ],
   "source": [
    "grid_search_mnb.best_params_"
   ]
  },
  {
   "cell_type": "code",
   "execution_count": 42,
   "metadata": {},
   "outputs": [
    {
     "data": {
      "text/plain": [
       "Pipeline(memory=None,\n",
       "     steps=[('TfIdf', TfidfVectorizer(analyzer='word', binary=False, decode_error='strict',\n",
       "        dtype=<class 'numpy.float64'>, encoding='utf-8', input='content',\n",
       "        lowercase=True, max_df=1.0, max_features=5000, min_df=1,\n",
       "        ngram_range=(1, 1), norm='l2', preprocessor=None, smooth_idf=True,...  vocabulary=None)), ('MultinomialNB', MultinomialNB(alpha=0.01, class_prior=None, fit_prior=True))])"
      ]
     },
     "execution_count": 42,
     "metadata": {},
     "output_type": "execute_result"
    }
   ],
   "source": [
    "grid_search_mnb.best_estimator_"
   ]
  },
  {
   "cell_type": "code",
   "execution_count": 43,
   "metadata": {},
   "outputs": [
    {
     "data": {
      "text/plain": [
       "0.7805483040043018"
      ]
     },
     "execution_count": 43,
     "metadata": {},
     "output_type": "execute_result"
    }
   ],
   "source": [
    "# Check the score on the training and test sets\n",
    "grid_search_mnb.score(X_test, y_test)"
   ]
  },
  {
   "cell_type": "code",
   "execution_count": 44,
   "metadata": {},
   "outputs": [],
   "source": [
    "predicted = grid_search_mnb.predict(X)\n",
    "complaints_processed['Predicted_Category'] = predicted"
   ]
  },
  {
   "cell_type": "code",
   "execution_count": 45,
   "metadata": {},
   "outputs": [],
   "source": [
    "# 7. Review performance\n",
    "from sklearn.metrics import confusion_matrix, classification_report\n",
    "\n",
    "# Get the confusion matrix as dataframe\n",
    "y_predicted = grid_search_mnb.predict(X_test)"
   ]
  },
  {
   "cell_type": "code",
   "execution_count": 53,
   "metadata": {},
   "outputs": [],
   "source": [
    "def plotConfusionMatrixHeatmap(input_df: pd.core.frame.DataFrame, model_name: str, figsize=(20, 18)):\n",
    "    \"\"\"\n",
    "    Return the results of a multiclass classification algorithms as a heatmap\n",
    "    based on a confusion matrix.        \n",
    "    \"\"\"\n",
    "    # Heatmap of the results\n",
    "    plt.figure(figsize=figsize)\n",
    "    sns.heatmap(input_df, annot=True, fmt='d', cmap='Reds')\n",
    "    plt.ylabel('True', fontweight='bold')\n",
    "    plt.xlabel('Predicted', fontweight='bold')\n",
    "    plt.title(f'Confusion Matrix - {model_name}', size=14, fontweight='bold')\n",
    "#    plt.legend(True, loc='best')\n",
    "    plt.show()"
   ]
  },
  {
   "cell_type": "code",
   "execution_count": 59,
   "metadata": {},
   "outputs": [
    {
     "data": {
      "text/plain": [
       "['Bank account or service',\n",
       " 'Checking or savings account',\n",
       " 'Consumer Loan',\n",
       " 'Credit card or prepaid card',\n",
       " 'Credit reporting',\n",
       " 'Debt collection',\n",
       " 'Money transfer, virtual currency, or money service',\n",
       " 'Mortgage',\n",
       " 'Other financial service',\n",
       " 'Payday loan, title loan, or personal loan',\n",
       " 'Student loan',\n",
       " 'Vehicle loan or lease']"
      ]
     },
     "execution_count": 59,
     "metadata": {},
     "output_type": "execute_result"
    }
   ],
   "source": [
    "key_to_product_names = [x[1] for x in sorted(product_map.items())]"
   ]
  },
  {
   "cell_type": "code",
   "execution_count": 60,
   "metadata": {},
   "outputs": [
    {
     "data": {
      "image/png": "[encoded data removed]",
      "text/plain": [
       "<Figure size 864x720 with 2 Axes>"
      ]
     },
     "metadata": {},
     "output_type": "display_data"
    }
   ],
   "source": [
    "conf_matrix_df = pd.DataFrame(data=confusion_matrix(y_test, y_predicted), index=key_to_product_names, columns=key_to_product)\n",
    "\n",
    "plotConfusionMatrixHeatmap(conf_matrix_df, model_name='Naive Bayes', figsize=(12, 10))"
   ]
  },
  {
   "cell_type": "code",
   "execution_count": 70,
   "metadata": {},
   "outputs": [
    {
     "name": "stdout",
     "output_type": "stream",
     "text": [
      "                                                    precision    recall  f1-score   support\n",
      "\n",
      "                           Bank account or service       0.71      0.16      0.26      2977\n",
      "                       Checking or savings account       0.59      0.65      0.62      4675\n",
      "                                     Consumer Loan       0.47      0.11      0.18      1895\n",
      "                       Credit card or prepaid card       0.68      0.79      0.73     12158\n",
      "                                  Credit reporting       0.81      0.89      0.85     44759\n",
      "                                   Debt collection       0.80      0.73      0.76     23833\n",
      "Money transfer, virtual currency, or money service       0.85      0.62      0.72      2266\n",
      "                                          Mortgage       0.84      0.93      0.88     13488\n",
      "                           Other financial service       0.00      0.00      0.00        58\n",
      "         Payday loan, title loan, or personal loan       0.71      0.25      0.37      1884\n",
      "                                      Student loan       0.83      0.80      0.81      5333\n",
      "                             Vehicle loan or lease       0.50      0.43      0.46      1975\n",
      "\n",
      "                                         micro avg       0.78      0.78      0.78    115301\n",
      "                                         macro avg       0.65      0.53      0.55    115301\n",
      "                                      weighted avg       0.77      0.78      0.77    115301\n",
      "\n"
     ]
    }
   ],
   "source": [
    "classification_report_mnb = classification_report(y_test, y_predicted, target_names=key_to_product_names)\n",
    "print(classification_report_mnb)"
   ]
  },
  {
   "cell_type": "markdown",
   "metadata": {},
   "source": [
    "## Linear Support Vector Machine"
   ]
  },
  {
   "cell_type": "code",
   "execution_count": null,
   "metadata": {},
   "outputs": [],
   "source": []
  }
 ],
 "metadata": {
  "kernelspec": {
   "display_name": "Python 3",
   "language": "python",
   "name": "python3"
  },
  "language_info": {
   "codemirror_mode": {
    "name": "ipython",
    "version": 3
   },
   "file_extension": ".py",
   "mimetype": "text/x-python",
   "name": "python",
   "nbconvert_exporter": "python",
   "pygments_lexer": "ipython3",
   "version": "3.6.5"
  }
 },
 "nbformat": 4,
 "nbformat_minor": 2
}
