{
 "cells": [
  {
   "cell_type": "markdown",
   "metadata": {},
   "source": [
    "# Multiclass Text Classification on Consumer Complaints for Financial Products\n",
    "## Author: Georgios Spyrou\n",
    "## Date: 19/08/2020"
   ]
  },
  {
   "cell_type": "markdown",
   "metadata": {},
   "source": [
    "### Project Description"
   ]
  },
  {
   "cell_type": "markdown",
   "metadata": {},
   "source": [
    "The data used in this project contain complaints that have been made by consumers regarding financial services and products (e.g. student loans, credit reports, mortgage, etc) in the United States between November 2011 and May 2019. Each of the complaints is marked to belong under one Product Category. This makes the data ideal for supervised learning purposes, with the text (complaint from the consumer) as the **input**, and the category that the complaint belongs to as the **target** variable.\n",
    "\n",
    "The dataset is publicly available and it keeps getting updated daily from the USA Consumer Financial Protection Bureau, and it can be found <a href=\"https://catalog.data.gov/dataset/consumer-complaint-database\" style=\"text-decoration: none\"> here</a>.\n",
    "\n",
    "After this small introduction, we can move to the main part of the project. At the beggining we will load the dataset into Python, perform some data cleaning and continue with the exploratory data analysis part, so that we can get a better understanding of the dataset. After we make sure that we understand the data, we will proceed to the modeling part where we will try different types of classification algorithms and compare their performance on predicting to which class/category each complaint should fall into."
   ]
  },
  {
   "cell_type": "markdown",
   "metadata": {},
   "source": [
    "### Part 1 - Data Loading"
   ]
  },
  {
   "cell_type": "code",
   "execution_count": 3,
   "metadata": {},
   "outputs": [],
   "source": [
    "# Import dependencies\n",
    "import os\n",
    "import re\n",
    "import numpy as np\n",
    "import pandas as pd\n",
    "\n",
    "# Visualization\n",
    "import matplotlib.pyplot as plt\n",
    "import seaborn as sns"
   ]
  },
  {
   "cell_type": "code",
   "execution_count": 4,
   "metadata": {},
   "outputs": [],
   "source": [
    "project_dir = r'C:\\Users\\george\\Desktop\\GitHub\\Projects\\Consumer_Complaints'\n",
    "os.chdir(project_dir)\n",
    "\n",
    "complaints_df = pd.read_csv(os.path.join(project_dir, 'Data', 'complaints.csv'))"
   ]
  },
  {
   "cell_type": "code",
   "execution_count": 9,
   "metadata": {},
   "outputs": [
    {
     "data": {
      "text/plain": [
       "(1706612, 18)"
      ]
     },
     "execution_count": 9,
     "metadata": {},
     "output_type": "execute_result"
    }
   ],
   "source": [
    "complaints_df.shape"
   ]
  },
  {
   "cell_type": "code",
   "execution_count": 5,
   "metadata": {},
   "outputs": [
    {
     "data": {
      "text/plain": [
       "Index(['Date received', 'Product', 'Sub-product', 'Issue', 'Sub-issue',\n",
       "       'Consumer complaint narrative', 'Company public response', 'Company',\n",
       "       'State', 'ZIP code', 'Tags', 'Consumer consent provided?',\n",
       "       'Submitted via', 'Date sent to company', 'Company response to consumer',\n",
       "       'Timely response?', 'Consumer disputed?', 'Complaint ID'],\n",
       "      dtype='object')"
      ]
     },
     "execution_count": 5,
     "metadata": {},
     "output_type": "execute_result"
    }
   ],
   "source": [
    "complaints_df.columns"
   ]
  },
  {
   "cell_type": "markdown",
   "metadata": {},
   "source": [
    "From the features contained in the dataset we technically only care about the columns **Consumer complaint narrative** which corresponds to the text/complaint of the consumer, and the **Product** which is the category that the complaint falls into and it will be our target variable. Please note that the input variable is going to be renamed in the next step, for ease of use."
   ]
  },
  {
   "cell_type": "markdown",
   "metadata": {},
   "source": [
    "### Part 2 - Data Cleaning & Exporatory Data Analysis\n",
    "\n",
    "#### Initial Data Cleaning"
   ]
  },
  {
   "cell_type": "code",
   "execution_count": 7,
   "metadata": {},
   "outputs": [],
   "source": [
    "# Renaming the predictor column for ease of use\n",
    "complaints_df.rename(columns={'Consumer complaint narrative': 'Complaint'}, inplace=True)"
   ]
  },
  {
   "cell_type": "code",
   "execution_count": 11,
   "metadata": {},
   "outputs": [
    {
     "data": {
      "text/plain": [
       "2019    277389\n",
       "2018    257312\n",
       "2017    242965\n",
       "2020    232834\n",
       "2016    191468\n",
       "2015    168475\n",
       "2014    153043\n",
       "2013    108217\n",
       "2012     72373\n",
       "2011      2536\n",
       "Name: Year, dtype: int64"
      ]
     },
     "execution_count": 11,
     "metadata": {},
     "output_type": "execute_result"
    }
   ],
   "source": [
    "# Get the year that the complaint took place as a separate column\n",
    "complaints_df['Year'] = complaints_df['Date received'].apply(lambda x: int(re.findall('[0-9]{4}', x)[0]))\n",
    "    \n",
    "complaints_df.Year.value_counts()"
   ]
  },
  {
   "cell_type": "code",
   "execution_count": 8,
   "metadata": {},
   "outputs": [
    {
     "data": {
      "text/plain": [
       "Date received                         0\n",
       "Product                               0\n",
       "Sub-product                      235165\n",
       "Issue                                 1\n",
       "Sub-issue                        578864\n",
       "Complaint                       1130110\n",
       "Company public response         1028312\n",
       "Company                               0\n",
       "State                             29187\n",
       "ZIP code                         164485\n",
       "Tags                            1478326\n",
       "Consumer consent provided?       648327\n",
       "Submitted via                         0\n",
       "Date sent to company                  0\n",
       "Company response to consumer          2\n",
       "Timely response?                      0\n",
       "Consumer disputed?               938135\n",
       "Complaint ID                          0\n",
       "dtype: int64"
      ]
     },
     "execution_count": 8,
     "metadata": {},
     "output_type": "execute_result"
    }
   ],
   "source": [
    "# Identify how many missing values we have per column \n",
    "complaints_df.isnull().sum(axis=0)"
   ]
  },
  {
   "cell_type": "markdown",
   "metadata": {},
   "source": [
    "We can see that 1130110 out of the 1706612 complaints in the dataset are empty, which means that the consumer did not provide any text explaining the reason for raising the complaint. Thus, such cases are not very useful in our project as they provide no helpful information in order to predict to which product category they should belong based on the consumer's input.\n",
    "\n",
    "Before we reduce the dataset to only retain the rows where the Complaint field is populated, we will continue the EDA with the whole dataset and perform this task in a later stage.\n",
    "\n",
    "#### Exploratory Data Analysis & Visualizations"
   ]
  },
  {
   "cell_type": "code",
   "execution_count": 17,
   "metadata": {},
   "outputs": [],
   "source": [
    "def plotNumberOfObservationsPerCategory(input_df: pd.core.frame.DataFrame, col: str, by_year=True, figsize=(10,8)):\n",
    "    \"\"\"\n",
    "    Returns a countplot with the number of observations\n",
    "    based on the column defined by 'col'\n",
    "    \"\"\"\n",
    "    hue = None\n",
    "    if by_year == True:\n",
    "        hue = input_df['Year']\n",
    "    plt.figure(figsize=figsize)\n",
    "    sns.countplot(y=input_df[col], hue=hue,\n",
    "                       order=input_df[col].value_counts().index)\n",
    "    plt.ylabel('Complaint Category', fontweight=\"bold\")\n",
    "    plt.title(f'Number of Complaints per {col} Category', fontweight=\"bold\")\n",
    "    plt.show()"
   ]
  },
  {
   "cell_type": "code",
   "execution_count": 18,
   "metadata": {},
   "outputs": [
    {
     "data": {
      "image/png": "[encoded data removed]",
      "text/plain": [
       "<Figure size 576x432 with 1 Axes>"
      ]
     },
     "metadata": {},
     "output_type": "display_data"
    }
   ],
   "source": [
    "plotNumberOfObservationsPerCategory(complaints_df, col='Product', by_year=False, figsize=(8,6))"
   ]
  },
  {
   "cell_type": "markdown",
   "metadata": {},
   "source": [
    "We can see that are many cases where a category is overlapping with another. For example, we have both 'Credit card or prepaid card' and 'Credit card' as separate categories."
   ]
  },
  {
   "cell_type": "code",
   "execution_count": null,
   "metadata": {},
   "outputs": [],
   "source": []
  }
 ],
 "metadata": {
  "kernelspec": {
   "display_name": "Python 3",
   "language": "python",
   "name": "python3"
  },
  "language_info": {
   "codemirror_mode": {
    "name": "ipython",
    "version": 3
   },
   "file_extension": ".py",
   "mimetype": "text/x-python",
   "name": "python",
   "nbconvert_exporter": "python",
   "pygments_lexer": "ipython3",
   "version": "3.6.5"
  }
 },
 "nbformat": 4,
 "nbformat_minor": 2
}
